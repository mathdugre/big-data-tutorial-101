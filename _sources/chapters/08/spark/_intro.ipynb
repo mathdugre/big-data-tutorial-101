{
 "cells": [
  {
   "cell_type": "code",
   "execution_count": null,
   "metadata": {},
   "outputs": [],
   "source": []
  }
 ],
 "metadata": {
  "kernelspec": {
   "display_name": "Python 3",
   "language": "python",
   "name": "python3"
  },
  "language_info": {
   "name": "python",
   "version": "3.10.8 (main, Nov 19 2022, 15:15:38) [GCC 11.3.0]"
  },
  "orig_nbformat": 4,
  "vscode": {
   "interpreter": {
    "hash": "494eccd88fbc98b4f5b56c3f7ba1c3a70de60f485c434102279874b6a6a928d0"
   }
  }
 },
 "nbformat": 4,
 "nbformat_minor": 2
}
