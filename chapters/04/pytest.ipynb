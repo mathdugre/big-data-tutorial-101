{
 "cells": [
  {
   "attachments": {},
   "cell_type": "markdown",
   "metadata": {},
   "source": [
    "# Testing with pytest"
   ]
  },
  {
   "attachments": {},
   "cell_type": "markdown",
   "metadata": {},
   "source": [
    "In this section, we introduce the pytest package to write test for your Python code.<br>\n",
    "The extent of this tutorial is limited, avid readers should refer to this additional material:\n",
    "\n",
    "- [pytest documentation](https://docs.pytest.org/)\n",
    "- [Python Testing with pytest (book)](https://pythontest.com/pytest-book/)"
   ]
  },
  {
   "attachments": {},
   "cell_type": "markdown",
   "metadata": {},
   "source": [
    "## Writing a simple function and test."
   ]
  },
  {
   "cell_type": "markdown",
   "metadata": {},
   "source": [
    "Let's write a simple function to greet users.\n",
    "For now, the function will do nothing.\n",
    "\n",
    "We want the function to greet the given user; or say \"Hello World!\" if no user is given."
   ]
  },
  {
   "cell_type": "code",
   "execution_count": 15,
   "metadata": {},
   "outputs": [
    {
     "name": "stdout",
     "output_type": "stream",
     "text": [
      "Overwriting greeting.py\n"
     ]
    }
   ],
   "source": [
    "%%file greeting.py\n",
    "\"\"\"Minimal function to demonstrate pytest.\"\"\"\n",
    "\n",
    "\n",
    "def greet(username: str | None = None) -> str:\n",
    "    \"\"\"Greet a given user.\n",
    "\n",
    "    When no user is given, this function will return \"Hello World!\".\n",
    "\n",
    "    Parameters\n",
    "    ----------\n",
    "    username: Optional[str]\n",
    "        Name of the user.\n",
    "\n",
    "    Returns\n",
    "    -------\n",
    "    str\n",
    "        Personalized greeting.\n",
    "    \"\"\"\n",
    "    return \"\"\n"
   ]
  },
  {
   "attachments": {},
   "cell_type": "markdown",
   "metadata": {},
   "source": [
    "Then, let's write a test that will make sure our function works as expected."
   ]
  },
  {
   "cell_type": "code",
   "execution_count": 16,
   "metadata": {},
   "outputs": [
    {
     "name": "stdout",
     "output_type": "stream",
     "text": [
      "Overwriting test_greeting.py\n"
     ]
    }
   ],
   "source": [
    "%%file test_greeting.py\n",
    "\"\"\"Minimal test to demonstrate pytest.\"\"\"\n",
    "import pytest\n",
    "\n",
    "from greeting import greet\n",
    "\n",
    "\n",
    "def test_greet() -> None:\n",
    "    assert greet(\"Alice\") == \"Hello Alice!\"\n",
    "    assert greet(\"Bob\") == \"Hello Bob!\"\n",
    "    if greet() != \"Hello World!\":\n",
    "        pytest.fail()\n"
   ]
  },
  {
   "attachments": {},
   "cell_type": "markdown",
   "metadata": {},
   "source": [
    "Let's execute the test we wrote. In a terminal run the command"
   ]
  },
  {
   "cell_type": "code",
   "execution_count": 17,
   "metadata": {},
   "outputs": [
    {
     "name": "stdout",
     "output_type": "stream",
     "text": [
      "\u001b[1m============================= test session starts ==============================\u001b[0m\n",
      "platform linux -- Python 3.11.0, pytest-7.2.1, pluggy-1.0.0\n",
      "rootdir: /home/math/teaching/data-101/chapters/04\n",
      "collected 1 item                                                               \u001b[0m\n",
      "\n",
      "test_greeting.py \u001b[31mF\u001b[0m\u001b[31m                                                       [100%]\u001b[0m\n",
      "\n",
      "=================================== FAILURES ===================================\n",
      "\u001b[31m\u001b[1m__________________________________ test_greet __________________________________\u001b[0m\n",
      "\n",
      "    \u001b[94mdef\u001b[39;49;00m \u001b[92mtest_greet\u001b[39;49;00m() -> \u001b[94mNone\u001b[39;49;00m:\u001b[90m\u001b[39;49;00m\n",
      ">       \u001b[94massert\u001b[39;49;00m greet(\u001b[33m\"\u001b[39;49;00m\u001b[33mAlice\u001b[39;49;00m\u001b[33m\"\u001b[39;49;00m) == \u001b[33m\"\u001b[39;49;00m\u001b[33mHello Alice!\u001b[39;49;00m\u001b[33m\"\u001b[39;49;00m\u001b[90m\u001b[39;49;00m\n",
      "\u001b[1m\u001b[31mE       AssertionError: assert '' == 'Hello Alice!'\u001b[0m\n",
      "\u001b[1m\u001b[31mE         - Hello Alice!\u001b[0m\n",
      "\n",
      "\u001b[1m\u001b[31mtest_greeting.py\u001b[0m:8: AssertionError\n",
      "\u001b[36m\u001b[1m=========================== short test summary info ============================\u001b[0m\n",
      "\u001b[31mFAILED\u001b[0m test_greeting.py::\u001b[1mtest_greet\u001b[0m - AssertionError: assert '' == 'Hello Alice!'\n",
      "\u001b[31m============================== \u001b[31m\u001b[1m1 failed\u001b[0m\u001b[31m in 0.05s\u001b[0m\u001b[31m ===============================\u001b[0m\n"
     ]
    }
   ],
   "source": [
    "! pytest"
   ]
  },
  {
   "cell_type": "markdown",
   "metadata": {},
   "source": [
    "\n",
    "The test should fail as expeceted since the function does nothing for now."
   ]
  },
  {
   "cell_type": "markdown",
   "metadata": {},
   "source": [
    "Let's write the core of our function and run the test suite again."
   ]
  },
  {
   "cell_type": "code",
   "execution_count": 18,
   "metadata": {},
   "outputs": [
    {
     "name": "stdout",
     "output_type": "stream",
     "text": [
      "Overwriting greeting.py\n"
     ]
    }
   ],
   "source": [
    "%%file greeting.py\n",
    "\"\"\"Minimal function to demonstrate pytest.\"\"\"\n",
    "\n",
    "\n",
    "def greet(username: str | None = None) -> str:\n",
    "    \"\"\"Greet a given user.\n",
    "\n",
    "    When no user is given, this function will return \"Hello World!\".\n",
    "\n",
    "    Parameters\n",
    "    ----------\n",
    "    username: Optional[str]\n",
    "        Name of the user.\n",
    "\n",
    "    Returns\n",
    "    -------\n",
    "    str\n",
    "        Personalized greeting.\n",
    "    \"\"\"\n",
    "    username = username if username else \"World\"\n",
    "    return f\"Hello {username}!\"\n"
   ]
  },
  {
   "cell_type": "code",
   "execution_count": 19,
   "metadata": {},
   "outputs": [
    {
     "name": "stdout",
     "output_type": "stream",
     "text": [
      "\u001b[1m============================= test session starts ==============================\u001b[0m\n",
      "platform linux -- Python 3.11.0, pytest-7.2.1, pluggy-1.0.0\n",
      "rootdir: /home/math/teaching/data-101/chapters/04\n",
      "collected 1 item                                                               \u001b[0m\n",
      "\n",
      "test_greeting.py \u001b[32m.\u001b[0m\u001b[32m                                                       [100%]\u001b[0m\n",
      "\n",
      "\u001b[32m============================== \u001b[32m\u001b[1m1 passed\u001b[0m\u001b[32m in 0.00s\u001b[0m\u001b[32m ===============================\u001b[0m\n"
     ]
    }
   ],
   "source": [
    "! pytest"
   ]
  },
  {
   "attachments": {},
   "cell_type": "markdown",
   "metadata": {},
   "source": [
    "This time, the test succeeded. Our implementation is successful 🎉"
   ]
  },
  {
   "cell_type": "markdown",
   "metadata": {},
   "source": []
  }
 ],
 "metadata": {
  "kernelspec": {
   "display_name": "data-101 tutorial",
   "language": "python",
   "name": "python3"
  },
  "language_info": {
   "codemirror_mode": {
    "name": "ipython",
    "version": 3
   },
   "file_extension": ".py",
   "mimetype": "text/x-python",
   "name": "python",
   "nbconvert_exporter": "python",
   "pygments_lexer": "ipython3",
   "version": "3.11.0"
  },
  "orig_nbformat": 4,
  "vscode": {
   "interpreter": {
    "hash": "4552d2516baef6a3a2390a00f45b5dd31dcfa33154ae417b097f38aa6f955776"
   }
  }
 },
 "nbformat": 4,
 "nbformat_minor": 2
}
