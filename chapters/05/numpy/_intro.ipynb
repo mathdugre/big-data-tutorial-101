{
 "cells": [
  {
   "attachments": {},
   "cell_type": "markdown",
   "metadata": {},
   "source": [
    "# NumPy"
   ]
  },
  {
   "cell_type": "markdown",
   "metadata": {},
   "source": []
  }
 ],
 "metadata": {
  "kernelspec": {
   "display_name": "data-101",
   "language": "python",
   "name": "python3"
  },
  "language_info": {
   "name": "python",
   "version": "3.10.8 (main, Nov 19 2022, 15:15:38) [GCC 11.3.0]"
  },
  "orig_nbformat": 4,
  "vscode": {
   "interpreter": {
    "hash": "e2e2463ee790901451f52d21ecdb3e7f2a3d4a0f630b8cf44b61400f91df5a2c"
   }
  }
 },
 "nbformat": 4,
 "nbformat_minor": 2
}
