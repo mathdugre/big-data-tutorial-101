{
 "cells": [
  {
   "attachments": {},
   "cell_type": "markdown",
   "metadata": {},
   "source": [
    "# A Brief Introduction to Python\n",
    "\n",
    "This section showcase the syntax and main features of the Python programming language. Moreover, some advanced features are introduced.\n",
    "\n",
    "For complete coverage of Python's feature, we suggest reading the [official Python tutorial](https://docs.python.org/3/tutorial/).\n",
    "Additionally, we invite you to take a look at [The Python Standard Library](https://docs.python.org/3/library/index.html#library-index)."
   ]
  },
  {
   "cell_type": "markdown",
   "metadata": {},
   "source": []
  }
 ],
 "metadata": {
  "kernelspec": {
   "display_name": "Python 3",
   "language": "python",
   "name": "python3"
  },
  "language_info": {
   "name": "python",
   "version": "3.10.8 (main, Nov 19 2022, 15:15:38) [GCC 11.3.0]"
  },
  "orig_nbformat": 4,
  "vscode": {
   "interpreter": {
    "hash": "494eccd88fbc98b4f5b56c3f7ba1c3a70de60f485c434102279874b6a6a928d0"
   }
  }
 },
 "nbformat": 4,
 "nbformat_minor": 2
}
