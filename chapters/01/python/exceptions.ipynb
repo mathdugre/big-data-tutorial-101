{
 "cells": [
  {
   "attachments": {},
   "cell_type": "markdown",
   "metadata": {},
   "source": [
    "# Exceptions"
   ]
  },
  {
   "attachments": {},
   "cell_type": "markdown",
   "metadata": {},
   "source": [
    "Even if a program syntax is correct, there might be issues that occur at runtime.\n",
    "To prevent the program from crashing Python provides a way to handle exceptions."
   ]
  },
  {
   "attachments": {},
   "cell_type": "markdown",
   "metadata": {},
   "source": [
    "## Handling Exceptions"
   ]
  },
  {
   "attachments": {},
   "cell_type": "markdown",
   "metadata": {},
   "source": [
    "The basic form of exception handling is as follow:\n",
    "```python\n",
    "try:\n",
    "    pass\n",
    "except SomeException:\n",
    "    pass\n",
    "...\n",
    "except Exception as e:\n",
    "    pass\n",
    "```\n",
    "\n",
    "In this example we `try` to execute something. In case it goes wrong, an exception while be raised.<br>\n",
    "The `except` statement let us capture the exception for us to handle. We can optionally use the `as` statement, giving access of the exception instance within the `except` section.\n",
    "\n",
    "Each `except` statement will be will try to match the exception type in order.<br>\n",
    "The `Exception` class acts as a wild card to catch (almost) everything."
   ]
  },
  {
   "cell_type": "code",
   "execution_count": 5,
   "metadata": {},
   "outputs": [
    {
     "name": "stdout",
     "output_type": "stream",
     "text": [
      "[ERROR] Impossible to divide by 0.\n"
     ]
    }
   ],
   "source": [
    "try:\n",
    "    1/0\n",
    "except ZeroDivisionError:\n",
    "    print(\"[ERROR] Impossible to divide by 0.\")\n",
    "except Exception as e:\n",
    "    pass"
   ]
  },
  {
   "attachments": {},
   "cell_type": "markdown",
   "metadata": {},
   "source": [
    "## Raising Exceptions"
   ]
  },
  {
   "attachments": {},
   "cell_type": "markdown",
   "metadata": {},
   "source": [
    "The `raise` statement force an exception to occur."
   ]
  },
  {
   "cell_type": "code",
   "execution_count": 2,
   "metadata": {},
   "outputs": [
    {
     "name": "stdout",
     "output_type": "stream",
     "text": [
      "TypeError occurred\n"
     ]
    }
   ],
   "source": [
    "try:\n",
    "    raise TypeError(\"Wrong type\")\n",
    "except OSError:\n",
    "    print(\"OSError occurred\")\n",
    "except TypeError:\n",
    "    print(\"TypeError occurred\")\n",
    "except Exception:\n",
    "    print(\"Exception occurred\")"
   ]
  },
  {
   "attachments": {},
   "cell_type": "markdown",
   "metadata": {},
   "source": [
    "## Clean-Up Actions"
   ]
  },
  {
   "attachments": {},
   "cell_type": "markdown",
   "metadata": {},
   "source": [
    "After handling an exception, we might need to have some clean-up action. For example, to release some resources.<br>\n",
    "The `finally` statement can be used after the `except` statements and is always executed, regardless of an error occurring or not."
   ]
  },
  {
   "cell_type": "code",
   "execution_count": 3,
   "metadata": {},
   "outputs": [
    {
     "name": "stdout",
     "output_type": "stream",
     "text": [
      "Handling Exception\n",
      "Clean-up action\n"
     ]
    }
   ],
   "source": [
    "try:\n",
    "    raise Exception\n",
    "except:\n",
    "    print(\"Handling Exception\")\n",
    "finally:\n",
    "    print(\"Clean-up action\")"
   ]
  },
  {
   "cell_type": "code",
   "execution_count": null,
   "metadata": {},
   "outputs": [],
   "source": []
  }
 ],
 "metadata": {
  "kernelspec": {
   "display_name": "data-101 tutorial",
   "language": "python",
   "name": "python3"
  },
  "language_info": {
   "codemirror_mode": {
    "name": "ipython",
    "version": 3
   },
   "file_extension": ".py",
   "mimetype": "text/x-python",
   "name": "python",
   "nbconvert_exporter": "python",
   "pygments_lexer": "ipython3",
   "version": "3.11.0"
  },
  "orig_nbformat": 4,
  "vscode": {
   "interpreter": {
    "hash": "4552d2516baef6a3a2390a00f45b5dd31dcfa33154ae417b097f38aa6f955776"
   }
  }
 },
 "nbformat": 4,
 "nbformat_minor": 2
}
