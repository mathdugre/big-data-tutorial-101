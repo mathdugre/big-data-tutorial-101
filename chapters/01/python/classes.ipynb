{
 "cells": [
  {
   "attachments": {},
   "cell_type": "markdown",
   "metadata": {},
   "source": [
    "# Classes"
   ]
  },
  {
   "attachments": {},
   "cell_type": "markdown",
   "metadata": {},
   "source": [
    "Classes provide a way to define templates to bundle data and functionality together.<br>"
   ]
  },
  {
   "attachments": {},
   "cell_type": "markdown",
   "metadata": {},
   "source": [
    "## Class Definition Syntax"
   ]
  },
  {
   "attachments": {},
   "cell_type": "markdown",
   "metadata": {},
   "source": [
    "A Python class is defined as follow:\n",
    "```python\n",
    "class ClassName:\n",
    "    <statement-1>\n",
    "    .\n",
    "    .\n",
    "    .\n",
    "    <statement-N>\n",
    "```\n",
    "The statements defining a class are either class attributes or methods.\n",
    "\n",
    "A class constructor is defined by overriding the `__init__` method.<br>\n",
    "The `self` keyword is used to reference to an object variables. Instance methods of the class should start with the `self` parameter."
   ]
  },
  {
   "cell_type": "code",
   "execution_count": 97,
   "metadata": {},
   "outputs": [],
   "source": [
    "from typing import Generator\n",
    "\n",
    "\n",
    "class ConcordiaPerson:\n",
    "    \"\"\"Define people at Concordia University.\"\"\"\n",
    "    def unique_id() -> Generator[str, None, None]:\n",
    "        \"\"\"Yield a unique Concordia ID.\n",
    "\n",
    "        Yields\n",
    "        ------\n",
    "        Generator[str, None, None]\n",
    "            Concordia ID.\n",
    "        \"\"\"\n",
    "        id_ = 1\n",
    "        while True:\n",
    "            yield str(id_).zfill(8)\n",
    "            id_ +=1\n",
    "\n",
    "    school: str = \"Concordia University\"\n",
    "    id_generator: Generator[str, None, None] = unique_id()\n",
    "    holidays: list[str] = [\"Winter Break\"]\n",
    "\n",
    "    def __init__(self, department: str, name: str):\n",
    "        \"\"\"Initialize the information for the Concordia person.\n",
    "\n",
    "        Parameters\n",
    "        ----------\n",
    "        department : str\n",
    "            School department the person is part of.\n",
    "        name : str\n",
    "            Name of the person.\n",
    "        \"\"\"\n",
    "        self.department = department\n",
    "        self.name = name\n",
    "        self.id_ = next(self.id_generator)\n",
    "\n",
    "    def get_info(self) -> str:\n",
    "        \"\"\"Get information on the Concordia person.\n",
    "\n",
    "        Returns\n",
    "        -------\n",
    "        str\n",
    "            Information on Concordia Person.\n",
    "        \"\"\"\n",
    "        return f\"{self.name} (ID: {self.id_}) is from the {self.department} department at {self.school}.\"\n"
   ]
  },
  {
   "attachments": {},
   "cell_type": "markdown",
   "metadata": {},
   "source": [
    "## Class Objects"
   ]
  },
  {
   "attachments": {},
   "cell_type": "markdown",
   "metadata": {},
   "source": [
    "We can create an object from the class by instantiating it.<br>\n",
    "Afterwards, we will be able to call the class methods and access or modify the object attributes."
   ]
  },
  {
   "cell_type": "code",
   "execution_count": 102,
   "metadata": {},
   "outputs": [
    {
     "name": "stdout",
     "output_type": "stream",
     "text": [
      "Alice (ID: 00000003) is from the Computer Science department at Concordia University.\n",
      "Bob (ID: 00000004) is from the Software Engineering department at Concordia University.\n"
     ]
    }
   ],
   "source": [
    "# We instantiate two objects.\n",
    "concordia_people = [\n",
    "    ConcordiaPerson(\"Computer Science\", \"Alice\"),\n",
    "    ConcordiaPerson(\"Software Engineering\", \"Bob\"),\n",
    "]\n",
    "\n",
    "for person in concordia_people:\n",
    "    print(person.get_info())"
   ]
  },
  {
   "attachments": {},
   "cell_type": "markdown",
   "metadata": {},
   "source": [
    "### Class vs. Object Attributes"
   ]
  },
  {
   "attachments": {},
   "cell_type": "markdown",
   "metadata": {},
   "source": [
    "While object attributes are independent of the different class instances, class attributes are shared for all instance of the class."
   ]
  },
  {
   "cell_type": "code",
   "execution_count": 99,
   "metadata": {},
   "outputs": [
    {
     "name": "stdout",
     "output_type": "stream",
     "text": [
      "['Winter Break', 'Fall Break']\n",
      "['Winter Break', 'Fall Break']\n"
     ]
    }
   ],
   "source": [
    "# Class attributes\n",
    "concordia_people[0].holidays.append(\"Fall Break\")\n",
    "\n",
    "for person in concordia_people:\n",
    "    print(person.holidays)"
   ]
  },
  {
   "cell_type": "code",
   "execution_count": 100,
   "metadata": {},
   "outputs": [
    {
     "name": "stdout",
     "output_type": "stream",
     "text": [
      "Charlie (ID: 00000001) is from the Computer Science department at Concordia University.\n",
      "Bob (ID: 00000002) is from the Software Engineering department at Concordia University.\n"
     ]
    }
   ],
   "source": [
    "# Object Attributes\n",
    "concordia_people[0].name = \"Charlie\"\n",
    "\n",
    "for person in concordia_people:\n",
    "    print(person.get_info())"
   ]
  },
  {
   "attachments": {},
   "cell_type": "markdown",
   "metadata": {},
   "source": [
    "## Inheritance"
   ]
  },
  {
   "attachments": {},
   "cell_type": "markdown",
   "metadata": {},
   "source": [
    "Python classes support inheritance and multiple inheritance.<br>\n",
    "We only discuss simple inheritance in this tutorial. The reader can refer to [Python Inheritance Tutorial](https://docs.python.org/3/tutorial/classes.html#inheritance) for details on multiple inheritance.\n",
    "\n",
    "The `super()` method provides access to the parent class."
   ]
  },
  {
   "cell_type": "code",
   "execution_count": 163,
   "metadata": {},
   "outputs": [],
   "source": [
    "class ConcordiaStudent(ConcordiaPerson):\n",
    "\n",
    "    def __init__(self, department: str, name: str, courses: list[str]):\n",
    "        \"\"\"Initialize the information for the Concordia student.\n",
    "\n",
    "        Parameters\n",
    "        ----------\n",
    "        department : str\n",
    "            School department the student is part of.\n",
    "        name : str\n",
    "            Name of the student.\n",
    "        list : list[str]\n",
    "            Courses registered in.\n",
    "        \"\"\"\n",
    "        super().__init__(department, name)\n",
    "        self.courses = courses\n",
    "\n",
    "\n",
    "    def registered_courses(self) -> str:\n",
    "        \"\"\"Get the information on registered courses for the student.\n",
    "\n",
    "        Returns\n",
    "        -------\n",
    "        str\n",
    "            Description of the courses taken by the student.\n",
    "        \"\"\"\n",
    "        return (\n",
    "            f\"{self.name} (ID: {self.id_}) are registered for these courses:\"\n",
    "            + (\"\\n- \".join([\"\"] + self.courses))\n",
    "        )\n",
    "\n",
    "class ConcordiaTeacher(ConcordiaPerson):\n",
    "\n",
    "    def __init__(self, department: str, name: str, courses: list[str]):\n",
    "        \"\"\"Initialize the information for the Concordia teacher.\n",
    "\n",
    "        Parameters\n",
    "        ----------\n",
    "        department : str\n",
    "            School department the teacher is part of.\n",
    "        name : str\n",
    "            Name of the teacher.\n",
    "        list : list[str]\n",
    "            Courses teaching.\n",
    "        \"\"\"\n",
    "        super().__init__(department, name)\n",
    "        self.courses = courses\n",
    "\n",
    "    def teaches(self) -> str:\n",
    "        \"\"\"Get the information on courses taught by the teacher.\n",
    "\n",
    "        Returns\n",
    "        -------\n",
    "        str\n",
    "            Description of the courses taught by the teacher.\n",
    "        \"\"\"\n",
    "        return (\n",
    "                f\"{self.name} (ID: {self.id_}) teaches these courses:\"\n",
    "                + (\"\\n- \".join([\"\"] + self.courses))\n",
    "        )\n"
   ]
  },
  {
   "cell_type": "code",
   "execution_count": 164,
   "metadata": {},
   "outputs": [
    {
     "name": "stdout",
     "output_type": "stream",
     "text": [
      "=============== Teacher ===============\n",
      "\n",
      "Charlie (ID: 00000064) is from the CS department at Concordia University.\n",
      "Charlie (ID: 00000064) teaches these courses:\n",
      "- comp 101\n",
      "\n",
      "=============== Students ===============\n",
      "\n",
      "Alice (ID: 00000065) is from the CS department at Concordia University.\n",
      "Alice (ID: 00000065) are registered for these courses:\n",
      "- comp 101\n",
      "- comp 203\n",
      "\n",
      "\n",
      "Bob (ID: 00000066) is from the CS department at Concordia University.\n",
      "Bob (ID: 00000066) are registered for these courses:\n",
      "- comp 101\n",
      "- comp 205\n",
      "\n"
     ]
    }
   ],
   "source": [
    "teacher = ConcordiaTeacher(\"CS\", \"Charlie\", courses=[\"comp 101\"])\n",
    "\n",
    "students = [\n",
    "    ConcordiaStudent(\"CS\", \"Alice\", courses=[\"comp 101\", \"comp 203\"]),\n",
    "    ConcordiaStudent(\"CS\", \"Bob\", courses=[\"comp 101\", \"comp 205\"]),\n",
    "]\n",
    "\n",
    "print(\"=\"*15, \"Teacher\", \"=\"*15)\n",
    "print(f\"\"\"\n",
    "{teacher.get_info()}\n",
    "{teacher.teaches()}\n",
    "\"\"\"\n",
    ")\n",
    "\n",
    "print(\"=\"*15, \"Students\", \"=\"*15)\n",
    "for student in students:\n",
    "    print(f\"\"\"\n",
    "{student.get_info()}\n",
    "{student.registered_courses()}\n",
    "\"\"\"\n",
    "    )"
   ]
  },
  {
   "cell_type": "code",
   "execution_count": null,
   "metadata": {},
   "outputs": [],
   "source": []
  }
 ],
 "metadata": {
  "kernelspec": {
   "display_name": "data-101",
   "language": "python",
   "name": "python3"
  },
  "language_info": {
   "codemirror_mode": {
    "name": "ipython",
    "version": 3
   },
   "file_extension": ".py",
   "mimetype": "text/x-python",
   "name": "python",
   "nbconvert_exporter": "python",
   "pygments_lexer": "ipython3",
   "version": "3.10.8"
  },
  "orig_nbformat": 4,
  "vscode": {
   "interpreter": {
    "hash": "e2e2463ee790901451f52d21ecdb3e7f2a3d4a0f630b8cf44b61400f91df5a2c"
   }
  }
 },
 "nbformat": 4,
 "nbformat_minor": 2
}
