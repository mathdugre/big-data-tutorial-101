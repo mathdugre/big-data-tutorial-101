{
 "cells": [
  {
   "attachments": {},
   "cell_type": "markdown",
   "metadata": {},
   "source": [
    "# Control Flows"
   ]
  },
  {
   "attachments": {},
   "cell_type": "markdown",
   "metadata": {},
   "source": [
    "Python usual control flows of traditional language, with light variation.<br>\n",
    "In this section, we introduce the control flows used by Python for conditions, looping, and functions."
   ]
  },
  {
   "attachments": {},
   "cell_type": "markdown",
   "metadata": {},
   "source": [
    "## `if` Statements"
   ]
  },
  {
   "attachments": {},
   "cell_type": "markdown",
   "metadata": {},
   "source": [
    "The `if` statement allow execution of a code section when a condition is met."
   ]
  },
  {
   "cell_type": "code",
   "execution_count": 87,
   "metadata": {},
   "outputs": [
    {
     "name": "stdout",
     "output_type": "stream",
     "text": [
      "9 is odds.\n"
     ]
    }
   ],
   "source": [
    "from random import randint\n",
    "\n",
    "x: int = randint(-10, 10)\n",
    "\n",
    "if x < 0:\n",
    "    print(f\"{x} is a negative number.\")\n",
    "elif x % 2 == 0:\n",
    "    print(f\"{x} is even.\")\n",
    "else:\n",
    "    print(f\"{x} is odds.\")\n"
   ]
  },
  {
   "attachments": {},
   "cell_type": "markdown",
   "metadata": {},
   "source": [
    "When a value is compared to several constants, the [`match`](#match-statements) statements might be more appropriate for comparison."
   ]
  },
  {
   "attachments": {},
   "cell_type": "markdown",
   "metadata": {},
   "source": [
    "## `match` Statements"
   ]
  },
  {
   "attachments": {},
   "cell_type": "markdown",
   "metadata": {},
   "source": [
    "The `match` statement compares a value with consecutive constant. Upon the first case matching, the case's code branch is executed.<br>\n",
    "Note: the variable name `_` act as a wildcard and can always be executed. If no patterns match, none of the branches are executed."
   ]
  },
  {
   "cell_type": "code",
   "execution_count": 37,
   "metadata": {},
   "outputs": [
    {
     "name": "stdout",
     "output_type": "stream",
     "text": [
      "point=(0, 2)\n",
      "Distance from origin: 2\n"
     ]
    }
   ],
   "source": [
    "import math\n",
    "from random import randint\n",
    "\n",
    "point: tuple[int, int] = (randint(-2, 2), randint(-2, 2))\n",
    "print(f\"{point=}\")\n",
    "\n",
    "match point:\n",
    "    case (0, 0):\n",
    "        print(\"Distance from origin: 0\")\n",
    "    case (0, x) | (x, 0):\n",
    "        print(f\"Distance from origin: {x}\")\n",
    "    case (x, y):\n",
    "        print(f\"Distance from origin: {math.dist((x, y), (0, 0))}\")\n",
    "    case _:\n",
    "        raise ValueError(\"Not a point\")\n"
   ]
  },
  {
   "attachments": {},
   "cell_type": "markdown",
   "metadata": {},
   "source": [
    "## `while` and `for` Statements"
   ]
  },
  {
   "attachments": {},
   "cell_type": "markdown",
   "metadata": {},
   "source": [
    "The `while` statement iterates as long as its condition evaluation is truthy."
   ]
  },
  {
   "cell_type": "code",
   "execution_count": 41,
   "metadata": {},
   "outputs": [
    {
     "name": "stdout",
     "output_type": "stream",
     "text": [
      "0\n",
      "1\n",
      "1\n",
      "2\n",
      "3\n",
      "5\n",
      "8\n"
     ]
    }
   ],
   "source": [
    "# Fibonacci series\n",
    "# The sum of two elements defines the next\n",
    "a: int = 0\n",
    "b: int = 1\n",
    "while a < 10:\n",
    "    print(a)\n",
    "    a, b = b, a+b"
   ]
  },
  {
   "attachments": {},
   "cell_type": "markdown",
   "metadata": {},
   "source": [
    "The `for` statement iterates over a sequence of elements in the order they appear."
   ]
  },
  {
   "cell_type": "code",
   "execution_count": 45,
   "metadata": {},
   "outputs": [
    {
     "name": "stdout",
     "output_type": "stream",
     "text": [
      "banana 6\n",
      "apple 5\n",
      "kiwi 4\n"
     ]
    }
   ],
   "source": [
    "words: list[str] = [\"banana\", \"apple\", \"kiwi\"]\n",
    "\n",
    "for word in words:\n",
    "    print(word, len(word))"
   ]
  },
  {
   "attachments": {},
   "cell_type": "markdown",
   "metadata": {},
   "source": [
    "### The `range()` function"
   ]
  },
  {
   "attachments": {},
   "cell_type": "markdown",
   "metadata": {},
   "source": [
    "To iterate over a sequence of numbers, the `range` functions is useful."
   ]
  },
  {
   "cell_type": "code",
   "execution_count": 47,
   "metadata": {},
   "outputs": [
    {
     "name": "stdout",
     "output_type": "stream",
     "text": [
      "0\n",
      "1\n",
      "2\n",
      "3\n",
      "4\n"
     ]
    }
   ],
   "source": [
    "for n in range(5):\n",
    "    print(n)"
   ]
  },
  {
   "attachments": {},
   "cell_type": "markdown",
   "metadata": {},
   "source": [
    "### `break` and `continue` Statements, and `else` Clauses on Loops"
   ]
  },
  {
   "attachments": {},
   "cell_type": "markdown",
   "metadata": {},
   "source": [
    "The `break` statement, breaks out the innermost `for` or `while` loop.<br>\n",
    "The `else` clause on loops executes when the sequence is exhausted (with `for`) or the condition becomes false (with `while`), but not when a `break` statement terminates the loop."
   ]
  },
  {
   "cell_type": "code",
   "execution_count": 48,
   "metadata": {},
   "outputs": [
    {
     "name": "stdout",
     "output_type": "stream",
     "text": [
      "2 is a prime number\n",
      "3 is a prime number\n",
      "4 equals 2 * 2\n",
      "5 is a prime number\n",
      "6 equals 2 * 3\n",
      "7 is a prime number\n",
      "8 equals 2 * 4\n",
      "9 equals 3 * 3\n"
     ]
    }
   ],
   "source": [
    "for n in range(2, 10):\n",
    "    for x in range(2, n):\n",
    "        if n % x == 0:\n",
    "            print(n, \"equals\", x, \"*\", n//x)\n",
    "            break\n",
    "    else:\n",
    "        print(n, \"is a prime number\")"
   ]
  },
  {
   "attachments": {},
   "cell_type": "markdown",
   "metadata": {},
   "source": [
    "The `continue` statement goes directly to the next iteration of the loop."
   ]
  },
  {
   "cell_type": "code",
   "execution_count": 49,
   "metadata": {},
   "outputs": [
    {
     "name": "stdout",
     "output_type": "stream",
     "text": [
      "2 is an even number.\n",
      "3 is an odd number.\n",
      "4 is an even number.\n",
      "5 is an odd number.\n",
      "6 is an even number.\n",
      "7 is an odd number.\n",
      "8 is an even number.\n",
      "9 is an odd number.\n"
     ]
    }
   ],
   "source": [
    "for n in range(2, 10):\n",
    "    if n % 2 == 0:\n",
    "        print(f\"{n} is an even number.\")\n",
    "        continue\n",
    "    print(f\"{n} is an odd number.\")"
   ]
  },
  {
   "attachments": {},
   "cell_type": "markdown",
   "metadata": {},
   "source": [
    "## `pass` Statements"
   ]
  },
  {
   "attachments": {},
   "cell_type": "markdown",
   "metadata": {},
   "source": [
    "The `pass` statement does nothing. It can be used when the syntax requires a statement, but no action is required.<br>\n",
    "This is often used to implement minimal classes."
   ]
  },
  {
   "cell_type": "code",
   "execution_count": 52,
   "metadata": {},
   "outputs": [],
   "source": [
    "class TargetNotFound(Exception):\n",
    "    pass"
   ]
  },
  {
   "attachments": {},
   "cell_type": "markdown",
   "metadata": {},
   "source": [
    "## Defining Functions with `def` Statements"
   ]
  },
  {
   "attachments": {},
   "cell_type": "markdown",
   "metadata": {},
   "source": [
    "A Python function is defined with a name, and optionally parameters  and return statements.<br>\n",
    "Note: When the return statement is omitted, the `None` value is returned."
   ]
  },
  {
   "cell_type": "code",
   "execution_count": null,
   "metadata": {},
   "outputs": [
    {
     "name": "stdout",
     "output_type": "stream",
     "text": [
      "0 1 1 2 3 5 8 13 21 34 55 89 144 233 377 610 987 1597 \n"
     ]
    }
   ],
   "source": [
    "def fib_print(n: int) -> None:\n",
    "    \"\"\"Print the Fibonacci series up to `n`. \n",
    "\n",
    "    Parameters\n",
    "    ----------\n",
    "    n : int\n",
    "        Maximum value for the Fibonacci series.\n",
    "    \"\"\"\n",
    "    a: int = 0\n",
    "    b: int = 1\n",
    "    while a < n:\n",
    "        print(a, end=\" \")\n",
    "        a, b = b, a+b\n",
    "    print()\n",
    "\n",
    "fib_print(2000)"
   ]
  },
  {
   "cell_type": "code",
   "execution_count": 59,
   "metadata": {},
   "outputs": [
    {
     "data": {
      "text/plain": [
       "[0, 1, 1, 2, 3, 5, 8, 13, 21, 34, 55, 89, 144, 233, 377, 610, 987, 1597]"
      ]
     },
     "execution_count": 59,
     "metadata": {},
     "output_type": "execute_result"
    }
   ],
   "source": [
    "def fib(n: int) -> list[int]:\n",
    "    \"\"\"Return the Fibonacci series up to `n`. \n",
    "\n",
    "    Parameters\n",
    "    ----------\n",
    "    n : int\n",
    "        Maximum value for the Fibonacci series.\n",
    "\n",
    "    Returns\n",
    "    -------\n",
    "    series: list[int]\n",
    "        Fibonacci series.\n",
    "    \"\"\"\n",
    "    series: list[int] = []\n",
    "\n",
    "    a: int = 0\n",
    "    b: int = 1\n",
    "    while a < n:\n",
    "        series.append(a)\n",
    "        a, b = b, a+b\n",
    "    \n",
    "    return series\n",
    "\n",
    "fib(2000)"
   ]
  },
  {
   "attachments": {},
   "cell_type": "markdown",
   "metadata": {},
   "source": [
    "### Unpacking arguments"
   ]
  },
  {
   "attachments": {},
   "cell_type": "markdown",
   "metadata": {},
   "source": [
    "Sequence can be unpacked into multiple variable. This can come in handy to:\n",
    "- Pass a list of arguments to a function\n",
    "- Assign function return values to multiple variables"
   ]
  },
  {
   "cell_type": "code",
   "execution_count": 86,
   "metadata": {},
   "outputs": [
    {
     "name": "stdout",
     "output_type": "stream",
     "text": [
      "Original: point=(-0.3450050516485521, -0.10230210474572043)\n",
      "Rotated: point_=(0.24604540139698672, 0.063129920753009)\n"
     ]
    }
   ],
   "source": [
    "import math\n",
    "from random import uniform\n",
    "\n",
    "def rotation(x: float, y: float, r: float) -> tuple[float, float]:\n",
    "    \"\"\"Rotate a pair of coordinate in Euclidean space by a `r` factor.\n",
    "\n",
    "    Parameters\n",
    "    ----------\n",
    "    x : float\n",
    "        x coordinate.\n",
    "    y : float\n",
    "        y coordinate.\n",
    "    r : float\n",
    "\n",
    "    Returns\n",
    "    -------\n",
    "    (x_, y_) : tuple[float, float]\n",
    "        Rotated coordinates.\n",
    "    \"\"\"\n",
    "    x_ = x*math.cos(r) - y*math.sin(r)\n",
    "    y_ = y*math.sin(r) + x*math.cos(r)\n",
    "    return x_, y_\n",
    "\n",
    "point: tuple[float, float] = (uniform(-1, 1), uniform(-1, 1))\n",
    "print(f\"Original: {point=}\")\n",
    "\n",
    "# Unpack the value of point with `*`.\n",
    "# Then the function return values are unpacked into x and y respectively.\n",
    "x_, y_ = rotation(*point, r=90)\n",
    "\n",
    "point_: tuple[float, float] = (x_, y_)\n",
    "print(f\"Rotated: {point_=}\")\n",
    "\n"
   ]
  },
  {
   "attachments": {},
   "cell_type": "markdown",
   "metadata": {},
   "source": [
    "### More on function parameters"
   ]
  },
  {
   "attachments": {},
   "cell_type": "markdown",
   "metadata": {},
   "source": [
    "A function can define its parameters with default values or to be either:\n",
    "- Positional only\n",
    "- Positional or keyword\n",
    "- Keyword only\n",
    "\n",
    "Example:\n",
    "```\n",
    "def f(pos1, pos2, /, pos_or_kwd, *, kwd1, kwd2):\n",
    "      -----------    ----------     ----------\n",
    "        |             |                  |\n",
    "        |        Positional or keyword   |\n",
    "        |                                - Keyword only\n",
    "         -- Positional only\n",
    "```\n",
    "\n",
    "As guidance:\n",
    "\n",
    "- Use positional-only if you want the name of the parameters to not be available to the user. This is useful when parameter names have no real meaning, if you want to enforce the order of the arguments when the function is called or if you need to take some positional parameters and arbitrary keywords.\n",
    "\n",
    "- Use keyword-only when names have meaning and the function definition is more understandable by being explicit with names or you want to prevent users relying on the position of the argument being passed.\n",
    "\n",
    "- For an API, use positional-only to prevent breaking API changes if the parameter’s name is modified in the future."
   ]
  },
  {
   "cell_type": "code",
   "execution_count": 101,
   "metadata": {},
   "outputs": [
    {
     "data": {
      "text/plain": [
       "[2, 1, 3, 4, 5]"
      ]
     },
     "execution_count": 101,
     "metadata": {},
     "output_type": "execute_result"
    }
   ],
   "source": [
    "from random import randint\n",
    "from typing import TypeVar\n",
    "\n",
    "T = TypeVar(\"T\")\n",
    "\n",
    "def sample(\n",
    "    l: list[T],\n",
    "    /, \n",
    "    n: int,\n",
    "    *,\n",
    "    resample: bool = False,\n",
    ") -> list[T]:\n",
    "    \"\"\"Sample `n` elements from a list.\n",
    "\n",
    "    Notes\n",
    "    -----\n",
    "    When `resample` is False and the element to sample is greater than the number of element in the list, the values of the list are returned in random order. That is, we cannot sample more elements that the list has.\n",
    "\n",
    "    Parameters\n",
    "    ----------\n",
    "    l : list[T]\n",
    "        List of elements to sample from.\n",
    "    n : int\n",
    "        Number of elements to sample.\n",
    "    resample : bool, optional\n",
    "        Whether resampling is allowed, by default False.\n",
    "\n",
    "    Returns\n",
    "    -------\n",
    "    rv: list[T]\n",
    "        Sample of elements.\n",
    "    \"\"\"\n",
    "\n",
    "    rv: list[T] = []\n",
    "    l_: list[T] = l.copy()\n",
    "\n",
    "    # Limit max samples when resampling is disabled.\n",
    "    if not resample:\n",
    "        n = min(len(l_), n)\n",
    "\n",
    "    for _ in range(n):\n",
    "        index: int = randint(0, len(l_) - 1)\n",
    "        rv.append(l_[index])\n",
    "        if not resample:\n",
    "            del l_[index]\n",
    "\n",
    "    return rv\n",
    "\n",
    "\n",
    "arr: list = [1, 2, 3, 4, 5]\n",
    "sample(arr, 7, resample=False)"
   ]
  },
  {
   "attachments": {},
   "cell_type": "markdown",
   "metadata": {},
   "source": [
    "### Arbitrary arguments"
   ]
  },
  {
   "attachments": {},
   "cell_type": "markdown",
   "metadata": {},
   "source": [
    "A function can define a parameter `*args` wrapping subsequent arguments in a `tuple`. Parameters occurring after the `*args` parameter must be keyword-only arguments.<br>\n",
    "Similarly, a function can define a keyword-only parameter `**kwargs` wrapping subsequent arguments in a `dict`. Not other parameters can follow the `**kwargs` parameter."
   ]
  },
  {
   "cell_type": "code",
   "execution_count": 103,
   "metadata": {},
   "outputs": [
    {
     "name": "stdout",
     "output_type": "stream",
     "text": [
      "/usr/bin/python\n"
     ]
    }
   ],
   "source": [
    "def concat(*args: tuple[str], sep=\"/\") -> str:\n",
    "    \"\"\"Concatenate a sequence of string.\n",
    "\n",
    "    Parameters\n",
    "    ----------\n",
    "    sep : str, optional\n",
    "        Separator to use when concatenating, by default \"/\"\n",
    "\n",
    "    Returns\n",
    "    -------\n",
    "    str\n",
    "        Concatenated string.\n",
    "    \"\"\"\n",
    "    return sep.join(args)\n",
    "\n",
    "path: list[str] = [\"/usr\", \"bin\", \"python\"]\n",
    "print(concat(*path))"
   ]
  },
  {
   "attachments": {},
   "cell_type": "markdown",
   "metadata": {},
   "source": [
    "### `lambda` Statements"
   ]
  },
  {
   "attachments": {},
   "cell_type": "markdown",
   "metadata": {},
   "source": [
    "Anonymous functions can be declared using the `lambda` keyword. They are restricted to a single expression."
   ]
  },
  {
   "cell_type": "code",
   "execution_count": 105,
   "metadata": {},
   "outputs": [
    {
     "name": "stdout",
     "output_type": "stream",
     "text": [
      "5\n"
     ]
    }
   ],
   "source": [
    "fma = lambda a, b, c: a*b + c\n",
    "\n",
    "print(fma(1, 2, 3))"
   ]
  },
  {
   "attachments": {},
   "cell_type": "markdown",
   "metadata": {},
   "source": [
    "It is often used to pass a one-time use function as an argument."
   ]
  },
  {
   "cell_type": "code",
   "execution_count": 108,
   "metadata": {},
   "outputs": [
    {
     "name": "stdout",
     "output_type": "stream",
     "text": [
      "[(1, 1), (2, 1), (-1, 3), (3, 1)]\n"
     ]
    }
   ],
   "source": [
    "# Sort list of point by distance to origin\n",
    "import math\n",
    "\n",
    "points: list[tuple[int, int]] = [(1, 1), (-1, 3), (3, 1), (2, 1)]\n",
    "points.sort(\n",
    "    key=lambda point: math.dist(point, (0,)*len(point))\n",
    "    )\n",
    "print(points)"
   ]
  },
  {
   "cell_type": "code",
   "execution_count": null,
   "metadata": {},
   "outputs": [],
   "source": []
  }
 ],
 "metadata": {
  "kernelspec": {
   "display_name": "data-science-101",
   "language": "python",
   "name": "python3"
  },
  "language_info": {
   "codemirror_mode": {
    "name": "ipython",
    "version": 3
   },
   "file_extension": ".py",
   "mimetype": "text/x-python",
   "name": "python",
   "nbconvert_exporter": "python",
   "pygments_lexer": "ipython3",
   "version": "3.10.8"
  },
  "orig_nbformat": 4,
  "vscode": {
   "interpreter": {
    "hash": "6423a0850e8efdc135bcba3978bfb7eab42885397d593e832c45df29c835d48d"
   }
  }
 },
 "nbformat": 4,
 "nbformat_minor": 2
}
