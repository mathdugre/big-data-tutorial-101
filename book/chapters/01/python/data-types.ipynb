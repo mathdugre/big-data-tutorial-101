{
 "cells": [
  {
   "attachments": {},
   "cell_type": "markdown",
   "metadata": {},
   "source": [
    "# Data types\n",
    "\n",
    "In this section, we showcase the different Python built-in data types.\n",
    "\n",
    "For an exhaustive explanation of the different types and their operations, we suggest reading the official [Built-in Types](https://docs.python.org/3/library/stdtypes.html) documentation."
   ]
  },
  {
   "attachments": {},
   "cell_type": "markdown",
   "metadata": {},
   "source": [
    "## Boolean\n",
    "The `bool` type is used to represent truthy value of an item."
   ]
  },
  {
   "attachments": {},
   "cell_type": "markdown",
   "metadata": {},
   "source": [
    "\n",
    "\n",
    "### Operations\n",
    "| Operation | Result                               | Notes |\n",
    "|-----------|--------------------------------------|-------|\n",
    "| `x or y`  | if x is false, then y, else x        | (1)   |\n",
    "| `x and y` | if x is false, then x, else y        | (2)   |\n",
    "| `not x`   | if x is false, then True, else False | (3)   |\n",
    "\n",
    "1. Short-circuit operation. Only evaluates the second operation if the first one is false.\n",
    "2. Short-circuit operation. Only evaluates the second operation if the first one is true.\n",
    "3. `not` has a lower priority than non-Boolean operator. i.e. `not a == b` is the same as `not (a == b)`.\n",
    "\n",
    "| Operation | Meaning                 |\n",
    "|-----------|-------------------------|\n",
    "| `<`         | strictly less than      |\n",
    "| `<=`        | less than or equal      |\n",
    "| `>`         | strictly greater than   |\n",
    "| `>=`        | greater than or equal   |\n",
    "| `==`        | equal                   |\n",
    "| `!=`        | not equal               |\n",
    "| `is`        | object identity         |\n",
    "| `is not`    | negated object identity |"
   ]
  },
  {
   "attachments": {},
   "cell_type": "markdown",
   "metadata": {},
   "source": [
    "### Examples"
   ]
  },
  {
   "cell_type": "code",
   "execution_count": null,
   "metadata": {},
   "outputs": [],
   "source": [
    "# Assignment\n",
    "x: bool = True\n",
    "y: bool = False"
   ]
  },
  {
   "cell_type": "code",
   "execution_count": null,
   "metadata": {},
   "outputs": [
    {
     "name": "stdout",
     "output_type": "stream",
     "text": [
      "Boolean Operations (and, or, not)\n",
      "(x or y)=True\n",
      "(x and y)=False\n",
      "(x and True)=True\n",
      "(not x)=False\n",
      "\n"
     ]
    }
   ],
   "source": [
    "print(f\"\"\"Boolean Operations (and, or, not)\n",
    "{(x or y)=}\n",
    "{(x and y)=}\n",
    "{(x and True)=}\n",
    "{(not x)=}\n",
    "\"\"\")"
   ]
  },
  {
   "cell_type": "code",
   "execution_count": null,
   "metadata": {},
   "outputs": [
    {
     "name": "stdout",
     "output_type": "stream",
     "text": [
      "Boolean Operations (Comparisons)\n",
      "\n",
      "(len(surname) < len(lastname))=False\n",
      "(a == b)=True\n",
      "(type(a) == type(b))=False\n",
      "\n"
     ]
    }
   ],
   "source": [
    "surname: str = \"John\"\n",
    "lastname: str = \"Doe\"\n",
    "\n",
    "a: int = 10\n",
    "b: float = 10.0\n",
    "\n",
    "print(f\"\"\"Boolean Operations (Comparisons)\n",
    "\n",
    "{(len(surname) < len(lastname))=}\n",
    "{(a == b)=}\n",
    "{(type(a) == type(b))=}\n",
    "\"\"\")"
   ]
  },
  {
   "attachments": {},
   "cell_type": "markdown",
   "metadata": {},
   "source": [
    "Caution with the is operand"
   ]
  },
  {
   "cell_type": "code",
   "execution_count": null,
   "metadata": {},
   "outputs": [
    {
     "name": "stdout",
     "output_type": "stream",
     "text": [
      "Binary Operations (is operand)\n",
      "\n",
      "(a is b)=True\n",
      "(l1 is l2)=True\n",
      "(l1 is [1, 2, 3])=False\n",
      "\n"
     ]
    }
   ],
   "source": [
    "from pathlib import Path\n",
    "\n",
    "# Integer type is immutable\n",
    "a: int = 10\n",
    "b: int = 10\n",
    "\n",
    "# List type is mutable\n",
    "l1: list = [1, 2, 3]\n",
    "l2 = l1\n",
    "\n",
    "print(f\"\"\"Binary Operations (is operand)\n",
    "\n",
    "{(a is b)=}\n",
    "{(l1 is l2)=}\n",
    "{(l1 is [1, 2, 3])=}\n",
    "\"\"\")"
   ]
  },
  {
   "attachments": {},
   "cell_type": "markdown",
   "metadata": {},
   "source": [
    "## Numeric\n",
    "\n",
    "There are three numeric types used to represent numbers: `int`, `float`, and `complex`.\n"
   ]
  },
  {
   "attachments": {},
   "cell_type": "markdown",
   "metadata": {},
   "source": [
    "### Operations\n",
    "\n",
    "| Operation       | Result                                                                      |\n",
    "|-----------------|-----------------------------------------------------------------------------|\n",
    "| x + y           | sum of x and y                                                              |\n",
    "| x - y           | difference of x and y                                                       |\n",
    "| x * y           | product of x and y                                                          |\n",
    "| x / y           | quotient of x and y                                                         |\n",
    "| x // y          | floored quotient of x and y                                                 |\n",
    "| x % y           | remainder of x / y                                                          |\n",
    "| -x              | x negated                                                                   |\n",
    "| abs(x)          | absolute value or magnitude of x                                            |\n",
    "| int(x)          | x converted to integer                                                      |\n",
    "| float(x)        | x converted to floating point                                               |\n",
    "| x ** y          | x to the power y                                                            |"
   ]
  },
  {
   "attachments": {},
   "cell_type": "markdown",
   "metadata": {},
   "source": [
    "### Example"
   ]
  },
  {
   "cell_type": "code",
   "execution_count": null,
   "metadata": {},
   "outputs": [
    {
     "name": "stdout",
     "output_type": "stream",
     "text": [
      "\n",
      "a=7\n",
      "b=19.0\n",
      "c=(5+23j)\n",
      "\n"
     ]
    }
   ],
   "source": [
    "# Assignment\n",
    "a: int = 7\n",
    "b: float = 19.0\n",
    "c: complex = 5 + 23j\n",
    "\n",
    "print(f\"\"\"\n",
    "{a=}\n",
    "{b=}\n",
    "{c=}\n",
    "\"\"\")"
   ]
  },
  {
   "cell_type": "code",
   "execution_count": null,
   "metadata": {},
   "outputs": [
    {
     "name": "stdout",
     "output_type": "stream",
     "text": [
      "Numeric Operations\n",
      "\n",
      "(a+c)=(12+23j)\n",
      "(a/2)=3.5\n",
      "(a//2)=3\n",
      "(b%2)=1.0\n",
      "(10**4)=10000\n",
      "\n"
     ]
    }
   ],
   "source": [
    "print(f\"\"\"Numeric Operations\n",
    "\n",
    "{(a+c)=}\n",
    "{(a/2)=}\n",
    "{(a//2)=}\n",
    "{(b%2)=}\n",
    "{(10**4)=}\n",
    "\"\"\")"
   ]
  },
  {
   "attachments": {},
   "cell_type": "markdown",
   "metadata": {},
   "source": [
    "## Sequence\n",
    "There are three types used to represent an **ordered** collection of items: `list`, `tuple`, and `range`."
   ]
  },
  {
   "attachments": {},
   "cell_type": "markdown",
   "metadata": {},
   "source": [
    "While `list` are mutable, `tuple` and `range` are immutable."
   ]
  },
  {
   "attachments": {},
   "cell_type": "markdown",
   "metadata": {},
   "source": [
    "### Operations\n",
    "\n",
    "| Operation              | Result                                                                           |\n",
    "|------------------------|----------------------------------------------------------------------------------|\n",
    "| `x in s`               | True if an item of s is equal to x, else False                                   |\n",
    "| `x not in s`           | False if an item of s is equal to x, else True                                   |\n",
    "| `s + t`                | the concatenation of s and t                                                     |\n",
    "| `s * n or n * s`       | equivalent to adding s to itself n times                                         |\n",
    "| `s[i]`                 | ith item of s, origin 0                                                          |\n",
    "| `s[i:j]`               | slice of s from i to j                                                           |\n",
    "| `s[i:j:k]`             | slice of s from i to j with step k                                               |\n",
    "| `len(s)`               | length of s                                                                      |\n",
    "| `min(s)`               | smallest item of s                                                               |\n",
    "| `max(s)`               | largest item of s                                                                |\n",
    "| `s.index(x[, i[, j]])` | index of the first occurrence of x in s (at or after index i and before index j) |\n",
    "| `s.count(x)`           | total number of occurrences of x in s                                            |"
   ]
  },
  {
   "attachments": {},
   "cell_type": "markdown",
   "metadata": {},
   "source": [
    "### Examples"
   ]
  },
  {
   "cell_type": "code",
   "execution_count": 128,
   "metadata": {},
   "outputs": [
    {
     "name": "stdout",
     "output_type": "stream",
     "text": [
      "\n",
      "l1=[2, 3, 5, 7, 11]\n",
      "t1=(1, 3, 5, 7, 9, 11)\n",
      "r1=range(1, 12, 2)\n",
      "list(r1)=[1, 3, 5, 7, 9, 11]\n",
      "\n"
     ]
    }
   ],
   "source": [
    "# Assignment\n",
    "l1: list = [2, 3, 5, 7, 11]\n",
    "t1: tuple = (1, 3, 5, 7, 9, 11)\n",
    "r1: range = range(1, 11+1, 2)\n",
    "\n",
    "print(f\"\"\"\n",
    "{l1=}\n",
    "{t1=}\n",
    "{r1=}\n",
    "{list(r1)=}\n",
    "\"\"\")"
   ]
  },
  {
   "cell_type": "code",
   "execution_count": 129,
   "metadata": {},
   "outputs": [
    {
     "data": {
      "text/plain": [
       "(False, True)"
      ]
     },
     "execution_count": 129,
     "metadata": {},
     "output_type": "execute_result"
    }
   ],
   "source": [
    "1 in l1, 2 in l1"
   ]
  },
  {
   "cell_type": "code",
   "execution_count": 130,
   "metadata": {},
   "outputs": [
    {
     "ename": "TypeError",
     "evalue": "can only concatenate list (not \"tuple\") to list",
     "output_type": "error",
     "traceback": [
      "\u001b[0;31m---------------------------------------------------------------------------\u001b[0m",
      "\u001b[0;31mTypeError\u001b[0m                                 Traceback (most recent call last)",
      "Cell \u001b[0;32mIn[130], line 1\u001b[0m\n\u001b[0;32m----> 1\u001b[0m l1 \u001b[39m+\u001b[39;49m t1\n",
      "\u001b[0;31mTypeError\u001b[0m: can only concatenate list (not \"tuple\") to list"
     ]
    }
   ],
   "source": [
    "l1 + t1"
   ]
  },
  {
   "cell_type": "code",
   "execution_count": 131,
   "metadata": {},
   "outputs": [
    {
     "data": {
      "text/plain": [
       "[1, 2, 3, 3, 5, 5, 7, 7, 9, 11, 11]"
      ]
     },
     "execution_count": 131,
     "metadata": {},
     "output_type": "execute_result"
    }
   ],
   "source": [
    "sorted(l1 + list(t1))"
   ]
  },
  {
   "cell_type": "code",
   "execution_count": 132,
   "metadata": {},
   "outputs": [
    {
     "data": {
      "text/plain": [
       "[5, 5, 5]"
      ]
     },
     "execution_count": 132,
     "metadata": {},
     "output_type": "execute_result"
    }
   ],
   "source": [
    "[5] * 3"
   ]
  },
  {
   "cell_type": "code",
   "execution_count": 133,
   "metadata": {},
   "outputs": [
    {
     "name": "stdout",
     "output_type": "stream",
     "text": [
      "Sequence attributes\n",
      "len(l1)=5\n",
      "min(l1)=2\n",
      "max(l1)=11\n",
      "l1[:3]=[2, 3, 5]\n",
      "l1[3:]=[7, 11]\n",
      "l1[::2]=[2, 5, 11]\n",
      "\n"
     ]
    }
   ],
   "source": [
    "print(f\"\"\"Sequence attributes\n",
    "{len(l1)=}\n",
    "{min(l1)=}\n",
    "{max(l1)=}\n",
    "{l1[:3]=}\n",
    "{l1[3:]=}\n",
    "{l1[::2]=}\n",
    "\"\"\")"
   ]
  },
  {
   "attachments": {},
   "cell_type": "markdown",
   "metadata": {},
   "source": [
    "### List Comprehensions"
   ]
  },
  {
   "attachments": {},
   "cell_type": "markdown",
   "metadata": {},
   "source": [
    "List comprehensions is a concise way to create list.<br>\n",
    "The list elements are defined within brackets followed by a `for` clause, then one or more `for` or `if` clauses."
   ]
  },
  {
   "cell_type": "code",
   "execution_count": 1,
   "metadata": {},
   "outputs": [
    {
     "name": "stdout",
     "output_type": "stream",
     "text": [
      "[0, 343, 2744, 9261, 21952, 42875, 74088, 117649, 175616, 250047, 343000, 456533, 592704, 753571, 941192]\n"
     ]
    }
   ],
   "source": [
    "print(\n",
    "    [n**3 for n in range(100) if n%7 == 0 ]\n",
    ")"
   ]
  },
  {
   "attachments": {},
   "cell_type": "markdown",
   "metadata": {},
   "source": [
    "## Text\n",
    "\n",
    "The `str` type is used to represent an **immutable** sequence of characters."
   ]
  },
  {
   "attachments": {},
   "cell_type": "markdown",
   "metadata": {},
   "source": [
    "### Example"
   ]
  },
  {
   "cell_type": "code",
   "execution_count": 1,
   "metadata": {},
   "outputs": [
    {
     "name": "stdout",
     "output_type": "stream",
     "text": [
      "allows embedded \"double\" quotes\n",
      "allows embedded 'single' quotes\n",
      "escape \"quote\" character\n",
      "-----------------------\n",
      "This is a multi line\n",
      "sequence of characters\n",
      "\n"
     ]
    }
   ],
   "source": [
    "print('allows embedded \"double\" quotes')\n",
    "print(\"allows embedded 'single' quotes\")\n",
    "print(\"escape \\\"quote\\\" character\")\n",
    "print(\"\"\"-----------------------\n",
    "This is a multi line\n",
    "sequence of characters\n",
    "\"\"\")"
   ]
  },
  {
   "cell_type": "code",
   "execution_count": 102,
   "metadata": {},
   "outputs": [],
   "source": [
    "# Assignment\n",
    "sentence: str = \"This is a short sentence.\"\n"
   ]
  },
  {
   "attachments": {},
   "cell_type": "markdown",
   "metadata": {},
   "source": [
    "`str` content"
   ]
  },
  {
   "cell_type": "code",
   "execution_count": 103,
   "metadata": {},
   "outputs": [
    {
     "data": {
      "text/plain": [
       "False"
      ]
     },
     "execution_count": 103,
     "metadata": {},
     "output_type": "execute_result"
    }
   ],
   "source": [
    "sentence.endswith(\"World!\")"
   ]
  },
  {
   "cell_type": "code",
   "execution_count": 104,
   "metadata": {},
   "outputs": [
    {
     "data": {
      "text/plain": [
       "True"
      ]
     },
     "execution_count": 104,
     "metadata": {},
     "output_type": "execute_result"
    }
   ],
   "source": [
    "sentence.startswith(\"Th\")"
   ]
  },
  {
   "cell_type": "code",
   "execution_count": 105,
   "metadata": {},
   "outputs": [
    {
     "data": {
      "text/plain": [
       "'empty space'"
      ]
     },
     "execution_count": 105,
     "metadata": {},
     "output_type": "execute_result"
    }
   ],
   "source": [
    "\"           empty space          \".strip()"
   ]
  },
  {
   "cell_type": "code",
   "execution_count": 115,
   "metadata": {},
   "outputs": [
    {
     "data": {
      "text/plain": [
       "'mpty spac'"
      ]
     },
     "execution_count": 115,
     "metadata": {},
     "output_type": "execute_result"
    }
   ],
   "source": [
    "\"           empty space          \".strip(\"e \")"
   ]
  },
  {
   "attachments": {},
   "cell_type": "markdown",
   "metadata": {},
   "source": [
    "`str` manipulation"
   ]
  },
  {
   "cell_type": "code",
   "execution_count": 120,
   "metadata": {},
   "outputs": [
    {
     "data": {
      "text/plain": [
       "['This', 'is', 'a', 'short', 'sentence.']"
      ]
     },
     "execution_count": 120,
     "metadata": {},
     "output_type": "execute_result"
    }
   ],
   "source": [
    "sentence.split()"
   ]
  },
  {
   "cell_type": "code",
   "execution_count": 121,
   "metadata": {},
   "outputs": [
    {
     "data": {
      "text/plain": [
       "'This_is_a_short_sentence.'"
      ]
     },
     "execution_count": 121,
     "metadata": {},
     "output_type": "execute_result"
    }
   ],
   "source": [
    "\"_\".join(sentence.split())"
   ]
  },
  {
   "attachments": {},
   "cell_type": "markdown",
   "metadata": {},
   "source": [
    "Similar to sequence types, we can slice strings."
   ]
  },
  {
   "cell_type": "code",
   "execution_count": 127,
   "metadata": {},
   "outputs": [
    {
     "data": {
      "text/plain": [
       "'This is a '"
      ]
     },
     "execution_count": 127,
     "metadata": {},
     "output_type": "execute_result"
    }
   ],
   "source": [
    "sentence[:10]"
   ]
  },
  {
   "attachments": {},
   "cell_type": "markdown",
   "metadata": {},
   "source": [
    "#### f-strings\n",
    "Python allows string to be formatted with variables. f-strings are one way to do that."
   ]
  },
  {
   "cell_type": "code",
   "execution_count": 125,
   "metadata": {},
   "outputs": [
    {
     "name": "stdout",
     "output_type": "stream",
     "text": [
      "name='math'\n",
      "My name is Math\n"
     ]
    }
   ],
   "source": [
    "name = input()\n",
    "print(f\"{name=}\")\n",
    "print(f\"My name is {name.capitalize()}\")"
   ]
  },
  {
   "attachments": {},
   "cell_type": "markdown",
   "metadata": {},
   "source": [
    "## Map\n",
    "The `dict` type is used to map a collection of keys to their respective value.\n"
   ]
  },
  {
   "cell_type": "code",
   "execution_count": 204,
   "metadata": {},
   "outputs": [
    {
     "name": "stdout",
     "output_type": "stream",
     "text": [
      "{'apple': 'green', 'banana': 'yellow', 'orange': 'orange'}\n"
     ]
    }
   ],
   "source": [
    "from pprint import pprint\n",
    "\n",
    "\n",
    "# Assignment\n",
    "d1: dict = {\"banana\": \"yellow\", \"orange\": \"orange\", \"apple\": \"green\"}\n",
    "pprint(d1)"
   ]
  },
  {
   "attachments": {},
   "cell_type": "markdown",
   "metadata": {},
   "source": [
    "`dict` content"
   ]
  },
  {
   "cell_type": "code",
   "execution_count": 205,
   "metadata": {},
   "outputs": [
    {
     "data": {
      "text/plain": [
       "dict_items([('banana', 'yellow'), ('orange', 'orange'), ('apple', 'green')])"
      ]
     },
     "execution_count": 205,
     "metadata": {},
     "output_type": "execute_result"
    }
   ],
   "source": [
    "d1.items()"
   ]
  },
  {
   "cell_type": "code",
   "execution_count": 206,
   "metadata": {},
   "outputs": [
    {
     "data": {
      "text/plain": [
       "dict_keys(['banana', 'orange', 'apple'])"
      ]
     },
     "execution_count": 206,
     "metadata": {},
     "output_type": "execute_result"
    }
   ],
   "source": [
    "d1.keys()"
   ]
  },
  {
   "cell_type": "code",
   "execution_count": 207,
   "metadata": {},
   "outputs": [
    {
     "data": {
      "text/plain": [
       "dict_values(['yellow', 'orange', 'green'])"
      ]
     },
     "execution_count": 207,
     "metadata": {},
     "output_type": "execute_result"
    }
   ],
   "source": [
    "d1.values()"
   ]
  },
  {
   "cell_type": "code",
   "execution_count": 208,
   "metadata": {},
   "outputs": [
    {
     "data": {
      "text/plain": [
       "(True, False)"
      ]
     },
     "execution_count": 208,
     "metadata": {},
     "output_type": "execute_result"
    }
   ],
   "source": [
    "\"apple\" in d1, \"peach\" in d1"
   ]
  },
  {
   "cell_type": "code",
   "execution_count": 209,
   "metadata": {},
   "outputs": [
    {
     "data": {
      "text/plain": [
       "('green', None)"
      ]
     },
     "execution_count": 209,
     "metadata": {},
     "output_type": "execute_result"
    }
   ],
   "source": [
    "d1.get(\"apple\"), d1.get(\"peach\")"
   ]
  },
  {
   "cell_type": "code",
   "execution_count": 210,
   "metadata": {},
   "outputs": [
    {
     "data": {
      "text/plain": [
       "'green'"
      ]
     },
     "execution_count": 210,
     "metadata": {},
     "output_type": "execute_result"
    }
   ],
   "source": [
    "d1[\"apple\"]"
   ]
  },
  {
   "attachments": {},
   "cell_type": "markdown",
   "metadata": {},
   "source": [
    "Remove an element from `dict`"
   ]
  },
  {
   "cell_type": "code",
   "execution_count": 211,
   "metadata": {},
   "outputs": [
    {
     "name": "stdout",
     "output_type": "stream",
     "text": [
      "{'apple': 'green', 'banana': 'yellow', 'orange': 'orange'}\n",
      "{'apple': 'green', 'orange': 'orange'}\n"
     ]
    }
   ],
   "source": [
    "pprint(d1)\n",
    "del d1[\"banana\"]\n",
    "pprint(d1)"
   ]
  },
  {
   "cell_type": "code",
   "execution_count": 216,
   "metadata": {},
   "outputs": [
    {
     "name": "stdout",
     "output_type": "stream",
     "text": [
      "{'apple': 'green', 'banana': 'yellow', 'orange': 'orange'}\n"
     ]
    }
   ],
   "source": [
    "d1[\"banana\"] = \"yellow\"\n",
    "pprint(d1)"
   ]
  },
  {
   "attachments": {},
   "cell_type": "markdown",
   "metadata": {},
   "source": [
    "Merging dictionaries"
   ]
  },
  {
   "cell_type": "code",
   "execution_count": 212,
   "metadata": {},
   "outputs": [
    {
     "data": {
      "text/plain": [
       "{'banana': 'green', 'apple': 'green', 'orange': 'orange'}"
      ]
     },
     "execution_count": 212,
     "metadata": {},
     "output_type": "execute_result"
    }
   ],
   "source": [
    "d2: dict = {\"banana\": \"green\", \"apple\": \"red\"}\n",
    "\n",
    "d2.update(d1)\n",
    "d2"
   ]
  },
  {
   "cell_type": "code",
   "execution_count": 213,
   "metadata": {},
   "outputs": [
    {
     "data": {
      "text/plain": [
       "{'banana': 'green', 'apple': 'green', 'orange': 'orange'}"
      ]
     },
     "execution_count": 213,
     "metadata": {},
     "output_type": "execute_result"
    }
   ],
   "source": [
    "d2: dict = {\"banana\": \"green\", \"apple\": \"red\"}\n",
    "\n",
    "d2 | d1"
   ]
  },
  {
   "attachments": {},
   "cell_type": "markdown",
   "metadata": {},
   "source": [
    "Allowing empty key to return a value with `collections.defaultdict`"
   ]
  },
  {
   "cell_type": "code",
   "execution_count": 221,
   "metadata": {},
   "outputs": [
    {
     "name": "stdout",
     "output_type": "stream",
     "text": [
      "defaultdict(<class 'int'>, {})\n"
     ]
    }
   ],
   "source": [
    "from collections import defaultdict\n",
    "\n",
    "d3: defaultdict = defaultdict(int)\n",
    "pprint(d3)"
   ]
  },
  {
   "cell_type": "code",
   "execution_count": 222,
   "metadata": {},
   "outputs": [
    {
     "data": {
      "text/plain": [
       "0"
      ]
     },
     "execution_count": 222,
     "metadata": {},
     "output_type": "execute_result"
    }
   ],
   "source": [
    "d3[1] = 1\n",
    "d3[2] = 4\n",
    "\n",
    "d3[3]"
   ]
  },
  {
   "cell_type": "code",
   "execution_count": 223,
   "metadata": {},
   "outputs": [
    {
     "name": "stdout",
     "output_type": "stream",
     "text": [
      "defaultdict(<class 'int'>, {1: 1, 2: 4, 3: 0})\n"
     ]
    }
   ],
   "source": [
    "pprint(d3)"
   ]
  },
  {
   "attachments": {},
   "cell_type": "markdown",
   "metadata": {},
   "source": [
    "### Dictionary Comprehension"
   ]
  },
  {
   "attachments": {},
   "cell_type": "markdown",
   "metadata": {},
   "source": [
    "Similar to `list` comprehension, we can use curly brackets to use `dict` comprehension."
   ]
  },
  {
   "cell_type": "code",
   "execution_count": 2,
   "metadata": {},
   "outputs": [
    {
     "name": "stdout",
     "output_type": "stream",
     "text": [
      "{0: 0, 1: 1, 2: 4, 3: 9, 4: 16, 5: 25, 6: 36, 7: 49, 8: 64, 9: 81}\n"
     ]
    }
   ],
   "source": [
    "print(\n",
    "    {\n",
    "    x: x**2\n",
    "    for x in range(10)\n",
    "    }\n",
    ")"
   ]
  },
  {
   "attachments": {},
   "cell_type": "markdown",
   "metadata": {},
   "source": [
    "## Set\n",
    "There are two types is used to represent an **unordered** collection of items: `set` and `frozenset`\n"
   ]
  },
  {
   "attachments": {},
   "cell_type": "markdown",
   "metadata": {},
   "source": [
    "`set` are mutable object and not hashable, while `frozenset` are immutable and hashable.<br>\n",
    "This means that `frozenset` can be used as a dictionary key."
   ]
  },
  {
   "cell_type": "code",
   "execution_count": 134,
   "metadata": {},
   "outputs": [],
   "source": [
    "# Assignment\n",
    "odds: set = {1, 3, 5, 7 , 9}\n",
    "evens: set = {2, 4, 6, 8, 10}\n",
    "primes: set = {2, 3, 5, 7}"
   ]
  },
  {
   "cell_type": "code",
   "execution_count": 160,
   "metadata": {},
   "outputs": [
    {
     "name": "stdout",
     "output_type": "stream",
     "text": [
      "Set Operations\n",
      "\n",
      "        Union difference: (odds | evens)={1, 2, 3, 4, 5, 6, 7, 8, 9, 10}\n",
      " Intersection difference: (odds & primes)={3, 5, 7}\n",
      "              Difference: (primes - odds)={2}\n",
      "              Difference: (odds - primes)={1, 9}\n",
      "  Symmetrical difference: (primes ^ odds)={1, 2, 9}\n",
      "\n"
     ]
    }
   ],
   "source": [
    "print(f\"\"\"Set Operations\n",
    "\n",
    "{\"Union difference:\": >25} {(odds | evens)=}\n",
    "{\"Intersection difference:\": >25} {(odds & primes)=}\n",
    "{\"Difference:\": >25} {(primes - odds)=}\n",
    "{\"Difference:\": >25} {(odds - primes)=}\n",
    "{\"Symmetrical difference:\": >25} {(primes ^ odds)=}\n",
    "\"\"\")"
   ]
  },
  {
   "attachments": {},
   "cell_type": "markdown",
   "metadata": {},
   "source": [
    "## None\n",
    "The null value is represented by the `NoneType`\n"
   ]
  },
  {
   "cell_type": "code",
   "execution_count": 30,
   "metadata": {},
   "outputs": [
    {
     "name": "stdout",
     "output_type": "stream",
     "text": [
      "\n",
      "git_config=None\n",
      "(git_config is None)=True\n",
      "\n",
      "\n",
      "git_config=PosixPath('/home/math/.gitconfig')\n",
      "(git_config is None)=False\n",
      "\n"
     ]
    }
   ],
   "source": [
    "from pathlib import Path\n",
    "\n",
    "# Assignment\n",
    "git_config: None = None\n",
    "\n",
    "print(f\"\"\"\n",
    "{git_config=}\n",
    "{(git_config is None)=}\n",
    "\"\"\")\n",
    "\n",
    "# Assign the proper path\n",
    "git_config: Path = Path().home() / \".gitconfig\"\n",
    "print(f\"\"\"\n",
    "{git_config=}\n",
    "{(git_config is None)=}\n",
    "\"\"\")"
   ]
  }
 ],
 "metadata": {
  "kernelspec": {
   "display_name": "data-101 tutorial",
   "language": "python",
   "name": "python3"
  },
  "language_info": {
   "codemirror_mode": {
    "name": "ipython",
    "version": 3
   },
   "file_extension": ".py",
   "mimetype": "text/x-python",
   "name": "python",
   "nbconvert_exporter": "python",
   "pygments_lexer": "ipython3",
   "version": "3.11.0"
  },
  "orig_nbformat": 4,
  "vscode": {
   "interpreter": {
    "hash": "4552d2516baef6a3a2390a00f45b5dd31dcfa33154ae417b097f38aa6f955776"
   }
  }
 },
 "nbformat": 4,
 "nbformat_minor": 2
}
